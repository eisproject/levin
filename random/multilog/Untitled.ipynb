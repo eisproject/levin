{
 "cells": [
  {
   "cell_type": "code",
   "execution_count": 2,
   "metadata": {
    "collapsed": true
   },
   "outputs": [],
   "source": [
    "import pandas as pd"
   ]
  },
  {
   "cell_type": "code",
   "execution_count": 5,
   "metadata": {
    "collapsed": false
   },
   "outputs": [
    {
     "name": "stderr",
     "output_type": "stream",
     "text": [
      "The system cannot find the path specified.\n"
     ]
    }
   ],
   "source": []
  },
  {
   "cell_type": "code",
   "execution_count": 9,
   "metadata": {
    "collapsed": false
   },
   "outputs": [
    {
     "name": "stderr",
     "output_type": "stream",
     "text": [
      "The system cannot find the path specified.\n"
     ]
    }
   ],
   "source": [
    "dbpath='E:/Box Sync/datarepo/levin/multilog/db/'\n",
    "!cd dbpath"
   ]
  },
  {
   "cell_type": "code",
   "execution_count": 58,
   "metadata": {
    "collapsed": false
   },
   "outputs": [
    {
     "data": {
      "text/html": [
       "<div>\n",
       "<table border=\"1\" class=\"dataframe\">\n",
       "  <thead>\n",
       "    <tr style=\"text-align: right;\">\n",
       "      <th></th>\n",
       "      <th>1</th>\n",
       "    </tr>\n",
       "    <tr>\n",
       "      <th>0</th>\n",
       "      <th></th>\n",
       "    </tr>\n",
       "  </thead>\n",
       "  <tbody>\n",
       "    <tr>\n",
       "      <th>Network Description</th>\n",
       "      <td>Lancaster University</td>\n",
       "    </tr>\n",
       "    <tr>\n",
       "      <th>Network Collection</th>\n",
       "      <td>Com 1</td>\n",
       "    </tr>\n",
       "    <tr>\n",
       "      <th>Network Domain</th>\n",
       "      <td>Net_01</td>\n",
       "    </tr>\n",
       "    <tr>\n",
       "      <th>Subnet Description</th>\n",
       "      <td>The Roundhouse</td>\n",
       "    </tr>\n",
       "    <tr>\n",
       "      <th>Subnet Collection</th>\n",
       "      <td>1</td>\n",
       "    </tr>\n",
       "    <tr>\n",
       "      <th>Node Description</th>\n",
       "      <td>Meters</td>\n",
       "    </tr>\n",
       "    <tr>\n",
       "      <th>Node Collection</th>\n",
       "      <td>1</td>\n",
       "    </tr>\n",
       "    <tr>\n",
       "      <th>Node ID</th>\n",
       "      <td>050157B2F300</td>\n",
       "    </tr>\n",
       "    <tr>\n",
       "      <th>Input Description</th>\n",
       "      <td>Electric Meter</td>\n",
       "    </tr>\n",
       "    <tr>\n",
       "      <th>Input Collection</th>\n",
       "      <td>1</td>\n",
       "    </tr>\n",
       "    <tr>\n",
       "      <th>Meter Constants</th>\n",
       "      <td>1</td>\n",
       "    </tr>\n",
       "    <tr>\n",
       "      <th>Transformer Constants</th>\n",
       "      <td>1</td>\n",
       "    </tr>\n",
       "    <tr>\n",
       "      <th>Max Meter-Reading</th>\n",
       "      <td>9999999.99</td>\n",
       "    </tr>\n",
       "    <tr>\n",
       "      <th>Data Unit</th>\n",
       "      <td>kWh</td>\n",
       "    </tr>\n",
       "    <tr>\n",
       "      <th>Storage Method</th>\n",
       "      <td>Minutely</td>\n",
       "    </tr>\n",
       "    <tr>\n",
       "      <th>Storage Duration</th>\n",
       "      <td>30</td>\n",
       "    </tr>\n",
       "  </tbody>\n",
       "</table>\n",
       "</div>"
      ],
      "text/plain": [
       "                                          1\n",
       "0                                          \n",
       "Network Description    Lancaster University\n",
       "Network Collection                    Com 1\n",
       "Network Domain                       Net_01\n",
       "Subnet Description           The Roundhouse\n",
       "Subnet Collection                         1\n",
       "Node Description                     Meters\n",
       "Node Collection                           1\n",
       "Node ID                        050157B2F300\n",
       "Input Description            Electric Meter\n",
       "Input Collection                          1\n",
       "Meter Constants                           1\n",
       "Transformer Constants                     1\n",
       "Max Meter-Reading                9999999.99\n",
       "Data Unit                               kWh\n",
       "Storage Method                     Minutely\n",
       "Storage Duration                         30"
      ]
     },
     "execution_count": 58,
     "metadata": {},
     "output_type": "execute_result"
    }
   ],
   "source": [
    "pd.read_csv('Node 001-1-001.Res',nrows=16,header=None,sep='\\t').set_index(0)"
   ]
  },
  {
   "cell_type": "code",
   "execution_count": 61,
   "metadata": {
    "collapsed": false
   },
   "outputs": [],
   "source": [
    "df1=pd.read_csv('Node 001-1-001.Res',nrows=16,header=None,sep='\\t').set_index(0)\n",
    "df2=pd.read_csv('Node 001-1-001.Res',skiprows=16,nrows=1,header=None,sep='\\t').set_index(0)"
   ]
  },
  {
   "cell_type": "code",
   "execution_count": 62,
   "metadata": {
    "collapsed": false
   },
   "outputs": [
    {
     "data": {
      "text/html": [
       "<div>\n",
       "<table border=\"1\" class=\"dataframe\">\n",
       "  <thead>\n",
       "    <tr style=\"text-align: right;\">\n",
       "      <th></th>\n",
       "      <th>Subnet Description</th>\n",
       "      <th>Node ID</th>\n",
       "      <th>Input Description</th>\n",
       "      <th>Input Collection</th>\n",
       "      <th>Meter Constants</th>\n",
       "      <th>Transformer Constants</th>\n",
       "      <th>Data Unit</th>\n",
       "    </tr>\n",
       "  </thead>\n",
       "  <tbody>\n",
       "    <tr>\n",
       "      <th>1</th>\n",
       "      <td>The Roundhouse</td>\n",
       "      <td>050157B2F300</td>\n",
       "      <td>Electric Meter</td>\n",
       "      <td>1</td>\n",
       "      <td>1</td>\n",
       "      <td>1</td>\n",
       "      <td>kWh</td>\n",
       "    </tr>\n",
       "  </tbody>\n",
       "</table>\n",
       "</div>"
      ],
      "text/plain": [
       "0 Subnet Description       Node ID Input Description Input Collection  \\\n",
       "1     The Roundhouse  050157B2F300    Electric Meter                1   \n",
       "\n",
       "0 Meter Constants Transformer Constants Data Unit  \n",
       "1               1                     1       kWh  "
      ]
     },
     "execution_count": 62,
     "metadata": {},
     "output_type": "execute_result"
    }
   ],
   "source": [
    "df1.T[['Subnet Description',\\\n",
    "            'Node ID',\\\n",
    "            'Input Description',\\\n",
    "            'Input Collection',\\\n",
    "            'Meter Constants',\\\n",
    "            'Transformer Constants',\\\n",
    "            'Data Unit']]"
   ]
  },
  {
   "cell_type": "code",
   "execution_count": 55,
   "metadata": {
    "collapsed": false
   },
   "outputs": [],
   "source": [
    "df1['Current Meter-reading']=df2.values[0][0]+' '+df2.values[0][1]+' '+str(df2.values[0][2])"
   ]
  },
  {
   "cell_type": "code",
   "execution_count": 57,
   "metadata": {
    "collapsed": false
   },
   "outputs": [],
   "source": [
    "df1.to_excel('out.xls')"
   ]
  }
 ],
 "metadata": {
  "kernelspec": {
   "display_name": "Python 2",
   "language": "python",
   "name": "python2"
  },
  "language_info": {
   "codemirror_mode": {
    "name": "ipython",
    "version": 2
   },
   "file_extension": ".py",
   "mimetype": "text/x-python",
   "name": "python",
   "nbconvert_exporter": "python",
   "pygments_lexer": "ipython2",
   "version": "2.7.11"
  }
 },
 "nbformat": 4,
 "nbformat_minor": 0
}
