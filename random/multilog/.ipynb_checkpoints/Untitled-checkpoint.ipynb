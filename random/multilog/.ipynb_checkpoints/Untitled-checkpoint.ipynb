{
 "cells": [
  {
   "cell_type": "code",
   "execution_count": 2,
   "metadata": {
    "collapsed": true
   },
   "outputs": [],
   "source": [
    "import pandas as pd"
   ]
  },
  {
   "cell_type": "code",
   "execution_count": 41,
   "metadata": {
    "collapsed": false
   },
   "outputs": [],
   "source": [
    "df1=pd.read_csv('Node 001-1-001.Res',nrows=16,header=None,sep='\\t').set_index(0)\n",
    "df2=pd.read_csv('Node 001-1-001.Res',skiprows=16,nrows=1,header=None,sep='\\t').set_index(0)"
   ]
  },
  {
   "cell_type": "code",
   "execution_count": 42,
   "metadata": {
    "collapsed": false
   },
   "outputs": [],
   "source": [
    "df1=df1.T[['Subnet Description',\\\n",
    "            'Node ID',\\\n",
    "            'Input Description',\\\n",
    "            'Input Collection',\\\n",
    "            'Meter Constants',\\\n",
    "            'Transformer Constants',\\\n",
    "            'Data Unit']]"
   ]
  },
  {
   "cell_type": "code",
   "execution_count": 55,
   "metadata": {
    "collapsed": false
   },
   "outputs": [],
   "source": [
    "df1['Current Meter-reading']=df2.values[0][0]+' '+df2.values[0][1]+' '+str(df2.values[0][2])"
   ]
  },
  {
   "cell_type": "code",
   "execution_count": 57,
   "metadata": {
    "collapsed": false
   },
   "outputs": [],
   "source": [
    "df1.to_excel('out.xls')"
   ]
  }
 ],
 "metadata": {
  "kernelspec": {
   "display_name": "Python 2",
   "language": "python",
   "name": "python2"
  },
  "language_info": {
   "codemirror_mode": {
    "name": "ipython",
    "version": 2
   },
   "file_extension": ".py",
   "mimetype": "text/x-python",
   "name": "python",
   "nbconvert_exporter": "python",
   "pygments_lexer": "ipython2",
   "version": "2.7.11"
  }
 },
 "nbformat": 4,
 "nbformat_minor": 0
}
